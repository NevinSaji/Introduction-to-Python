{
  "nbformat": 4,
  "nbformat_minor": 0,
  "metadata": {
    "colab": {
      "provenance": [],
      "authorship_tag": "ABX9TyNfD4bl6D8JfVmLEnmDgykv",
      "include_colab_link": true
    },
    "kernelspec": {
      "name": "python3",
      "display_name": "Python 3"
    },
    "language_info": {
      "name": "python"
    }
  },
  "cells": [
    {
      "cell_type": "markdown",
      "metadata": {
        "id": "view-in-github",
        "colab_type": "text"
      },
      "source": [
        "<a href=\"https://colab.research.google.com/github/NevinSaji/Introduction-to-Python/blob/main/03_Basics.ipynb\" target=\"_parent\"><img src=\"https://colab.research.google.com/assets/colab-badge.svg\" alt=\"Open In Colab\"/></a>"
      ]
    },
    {
      "cell_type": "code",
      "execution_count": 1,
      "metadata": {
        "colab": {
          "base_uri": "https://localhost:8080/"
        },
        "id": "OXHPvLT7vhiy",
        "outputId": "0cb86e0a-3375-40b8-b0f1-f18b83c6ffef"
      },
      "outputs": [
        {
          "output_type": "stream",
          "name": "stdout",
          "text": [
            "**********\n"
          ]
        }
      ],
      "source": [
        "print(\"*\" * 10)"
      ]
    },
    {
      "cell_type": "code",
      "source": [
        "name = input(\"what is your name?\")\n",
        "print(\"hi \" + name)"
      ],
      "metadata": {
        "colab": {
          "base_uri": "https://localhost:8080/"
        },
        "id": "erILxBgsvw8l",
        "outputId": "41ac21b7-e547-4067-d4cd-d574a4e2b5eb"
      },
      "execution_count": 2,
      "outputs": [
        {
          "output_type": "stream",
          "name": "stdout",
          "text": [
            "what is your name?Nevin Saji\n",
            "hi Nevin Saji\n"
          ]
        }
      ]
    },
    {
      "cell_type": "code",
      "source": [
        "name = input(\"what is your name? \")\n",
        "fav_color=input(\"what is your favourite color ? \")\n",
        "print(name + \" likes \" + fav_color)"
      ],
      "metadata": {
        "colab": {
          "base_uri": "https://localhost:8080/"
        },
        "id": "FpWz901Lv2Wc",
        "outputId": "c0cb3bfc-fbe3-44b9-e4ee-9f454f38268c"
      },
      "execution_count": 3,
      "outputs": [
        {
          "output_type": "stream",
          "name": "stdout",
          "text": [
            "what is your name? Nevin\n",
            "what is your favourite color ? Red\n",
            "Nevin likes Red\n"
          ]
        }
      ]
    },
    {
      "cell_type": "code",
      "source": [
        "c= \"Python for beginners\"\n",
        "print(c[0])\n",
        "print(c[-1])\n",
        "print(c[0:3])\n",
        "print(c[1:-1])\n",
        "print(c[ : ])\n",
        "     "
      ],
      "metadata": {
        "colab": {
          "base_uri": "https://localhost:8080/"
        },
        "id": "YLxoi8kBwhAS",
        "outputId": "d49d9024-f628-4adb-cc0f-27c05acae09b"
      },
      "execution_count": 4,
      "outputs": [
        {
          "output_type": "stream",
          "name": "stdout",
          "text": [
            "P\n",
            "s\n",
            "Pyt\n",
            "ython for beginner\n",
            "Python for beginners\n"
          ]
        }
      ]
    },
    {
      "cell_type": "code",
      "source": [
        "first=\"Nevin\"\n",
        "second = \"Saji\"\n",
        "msg= f\"{first} {second} is a good boy\"\n",
        "print(msg)\n",
        "     "
      ],
      "metadata": {
        "colab": {
          "base_uri": "https://localhost:8080/"
        },
        "id": "2D3_r7ZWwpKT",
        "outputId": "a1d4c0e0-e306-466e-f7cf-5fe5609b3f8f"
      },
      "execution_count": 5,
      "outputs": [
        {
          "output_type": "stream",
          "name": "stdout",
          "text": [
            "Nevin Saji is a good boy\n"
          ]
        }
      ]
    },
    {
      "cell_type": "code",
      "source": [
        "c= \"Python for beginners\"\n",
        "print(len(c))\n",
        "print(c.upper())\n",
        "print(c)\n",
        "print(c.find(\"o\"))\n",
        "print(c.replace(\"beginners\",\"absolute beginners\"))\n",
        "     "
      ],
      "metadata": {
        "colab": {
          "base_uri": "https://localhost:8080/"
        },
        "id": "dCIvinFXwxrq",
        "outputId": "35ede02a-37c4-47bc-a9d3-7447695b18d9"
      },
      "execution_count": 6,
      "outputs": [
        {
          "output_type": "stream",
          "name": "stdout",
          "text": [
            "20\n",
            "PYTHON FOR BEGINNERS\n",
            "Python for beginners\n",
            "4\n",
            "Python for absolute beginners\n"
          ]
        }
      ]
    },
    {
      "cell_type": "code",
      "source": [
        "c= \"Python for beginners\"\n",
        "print(\"Python\" in c)"
      ],
      "metadata": {
        "colab": {
          "base_uri": "https://localhost:8080/"
        },
        "id": "7X_o2p31w31p",
        "outputId": "8501499f-6358-49d4-e2d1-8c1204e6bf27"
      },
      "execution_count": 7,
      "outputs": [
        {
          "output_type": "stream",
          "name": "stdout",
          "text": [
            "True\n"
          ]
        }
      ]
    },
    {
      "cell_type": "code",
      "source": [
        "print(10/3)\n",
        "print(10//3)"
      ],
      "metadata": {
        "colab": {
          "base_uri": "https://localhost:8080/"
        },
        "id": "58RWTmFIw6cB",
        "outputId": "8878d8a7-747e-42a3-b0b8-31c04d6ea1e0"
      },
      "execution_count": 8,
      "outputs": [
        {
          "output_type": "stream",
          "name": "stdout",
          "text": [
            "3.3333333333333335\n",
            "3\n"
          ]
        }
      ]
    },
    {
      "cell_type": "code",
      "source": [
        "print(10**3)"
      ],
      "metadata": {
        "colab": {
          "base_uri": "https://localhost:8080/"
        },
        "id": "2uI7cMQcw-23",
        "outputId": "f6547199-d000-41c1-cb62-84d59931ac72"
      },
      "execution_count": 9,
      "outputs": [
        {
          "output_type": "stream",
          "name": "stdout",
          "text": [
            "1000\n"
          ]
        }
      ]
    },
    {
      "cell_type": "code",
      "source": [
        "x=-2.9\n",
        "print(round(x))\n",
        "print(abs(x))"
      ],
      "metadata": {
        "colab": {
          "base_uri": "https://localhost:8080/"
        },
        "id": "Kd_g3JjPxCav",
        "outputId": "c3f7c8a5-dba7-444f-da73-ae57b6736612"
      },
      "execution_count": 10,
      "outputs": [
        {
          "output_type": "stream",
          "name": "stdout",
          "text": [
            "-3\n",
            "2.9\n"
          ]
        }
      ]
    },
    {
      "cell_type": "code",
      "source": [
        "import math\n",
        "print(math.ceil(2.9))\n",
        "print(math.floor(2.9))"
      ],
      "metadata": {
        "colab": {
          "base_uri": "https://localhost:8080/"
        },
        "id": "lvPTpvDKxGLz",
        "outputId": "dbb46e53-d354-4475-ee8c-9fc246d5ca0c"
      },
      "execution_count": 11,
      "outputs": [
        {
          "output_type": "stream",
          "name": "stdout",
          "text": [
            "3\n",
            "2\n"
          ]
        }
      ]
    },
    {
      "cell_type": "code",
      "source": [
        "hot=True\n",
        "cold = False\n",
        "if hot:\n",
        "  print(\"it's a hot day\")\n",
        "  print(\"Drink water\")\n",
        "elif cold:\n",
        "  print(\"it's a cold day\")\n",
        "  print(\"Wear warm clothes\")\n",
        "else:\n",
        "  print(\"it's a lovely day\")"
      ],
      "metadata": {
        "colab": {
          "base_uri": "https://localhost:8080/"
        },
        "id": "2xcpcdHFxLEb",
        "outputId": "10dccdaa-5958-41ed-af70-108f8f96f459"
      },
      "execution_count": 12,
      "outputs": [
        {
          "output_type": "stream",
          "name": "stdout",
          "text": [
            "it's a hot day\n",
            "Drink water\n"
          ]
        }
      ]
    },
    {
      "cell_type": "code",
      "source": [
        "hot=False\n",
        "cold = True\n",
        "if hot:\n",
        "  print(\"it's a hot day\")\n",
        "  print(\"Drink water\")\n",
        "elif cold:\n",
        "  print(\"it's a cold day\")\n",
        "  print(\"Wear warm clothes\")\n",
        "else:\n",
        "  print(\"it's a lovely day\")"
      ],
      "metadata": {
        "colab": {
          "base_uri": "https://localhost:8080/"
        },
        "id": "dUsdL2BSxPlE",
        "outputId": "80cdf844-bf74-4d0a-a0f3-18365555f98f"
      },
      "execution_count": 13,
      "outputs": [
        {
          "output_type": "stream",
          "name": "stdout",
          "text": [
            "it's a cold day\n",
            "Wear warm clothes\n"
          ]
        }
      ]
    },
    {
      "cell_type": "code",
      "source": [
        "weight=int(input(\"weight : \"))\n",
        "unit = input(\" L (lbs) or K (Kg) :\")\n",
        "if unit.upper()== \"K\":\n",
        "  converted = weight * 0.45\n",
        "  print(f\"You are {converted} kilos \")\n",
        "else:\n",
        "  converted = weight / 0.45\n",
        "  print(f\"You are {converted} pounds \")"
      ],
      "metadata": {
        "colab": {
          "base_uri": "https://localhost:8080/"
        },
        "id": "0Ga82Y-vxbRh",
        "outputId": "c47468f1-899b-4f7f-fe94-c2f832530322"
      },
      "execution_count": 14,
      "outputs": [
        {
          "output_type": "stream",
          "name": "stdout",
          "text": [
            "weight : 60\n",
            " L (lbs) or K (Kg) :k\n",
            "You are 27.0 kilos \n"
          ]
        }
      ]
    },
    {
      "cell_type": "code",
      "source": [
        "i=1\n",
        "while i<=5 :\n",
        "  print(\"*\" * i)\n",
        "  i+=1"
      ],
      "metadata": {
        "colab": {
          "base_uri": "https://localhost:8080/"
        },
        "id": "eOgaZtILxgdK",
        "outputId": "ab657980-401f-4a52-9f88-62206595a458"
      },
      "execution_count": 15,
      "outputs": [
        {
          "output_type": "stream",
          "name": "stdout",
          "text": [
            "*\n",
            "**\n",
            "***\n",
            "****\n",
            "*****\n"
          ]
        }
      ]
    },
    {
      "cell_type": "code",
      "source": [
        "secret_number = 9\n",
        "guess_count = 0\n",
        "guess_limit = 3\n",
        "while guess_count < guess_limit :\n",
        "  guess = int(input(\"Guess : \"))\n",
        "  guess_count += 1\n",
        "  if guess == secret_number :\n",
        "    print(\"YOU ARE WON!\")\n",
        "    break\n",
        "else:\n",
        "  print(\"Sorry, You failed\")"
      ],
      "metadata": {
        "colab": {
          "base_uri": "https://localhost:8080/"
        },
        "id": "6ycxrABsxsMb",
        "outputId": "8e91ecfe-311e-4e31-def4-8d403355da14"
      },
      "execution_count": 16,
      "outputs": [
        {
          "output_type": "stream",
          "name": "stdout",
          "text": [
            "Guess : 3\n",
            "Guess : 6\n",
            "Guess : 9\n",
            "YOU ARE WON!\n"
          ]
        }
      ]
    },
    {
      "cell_type": "code",
      "source": [],
      "metadata": {
        "id": "XTGLJw5Wxv12"
      },
      "execution_count": 16,
      "outputs": []
    }
  ]
}