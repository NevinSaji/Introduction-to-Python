{
  "nbformat": 4,
  "nbformat_minor": 0,
  "metadata": {
    "colab": {
      "provenance": [],
      "authorship_tag": "ABX9TyNwu2onEWyTxRC/FNREMpRW",
      "include_colab_link": true
    },
    "kernelspec": {
      "name": "python3",
      "display_name": "Python 3"
    },
    "language_info": {
      "name": "python"
    }
  },
  "cells": [
    {
      "cell_type": "markdown",
      "metadata": {
        "id": "view-in-github",
        "colab_type": "text"
      },
      "source": [
        "<a href=\"https://colab.research.google.com/github/NevinSaji/Introduction-to-Python/blob/main/01_Basics.ipynb\" target=\"_parent\"><img src=\"https://colab.research.google.com/assets/colab-badge.svg\" alt=\"Open In Colab\"/></a>"
      ]
    },
    {
      "cell_type": "code",
      "execution_count": 1,
      "metadata": {
        "colab": {
          "base_uri": "https://localhost:8080/"
        },
        "id": "6K7skQFxf8fn",
        "outputId": "de4defe1-6b14-4718-c5a0-e78d8e738b41"
      },
      "outputs": [
        {
          "output_type": "execute_result",
          "data": {
            "text/plain": [
              "45"
            ]
          },
          "metadata": {},
          "execution_count": 1
        }
      ],
      "source": [
        "30+15"
      ]
    },
    {
      "cell_type": "code",
      "source": [
        "30*3"
      ],
      "metadata": {
        "colab": {
          "base_uri": "https://localhost:8080/"
        },
        "id": "bhhkTCBDhWe_",
        "outputId": "8c9db4f9-ee5e-4f12-ff2e-2a28a15e844d"
      },
      "execution_count": 2,
      "outputs": [
        {
          "output_type": "execute_result",
          "data": {
            "text/plain": [
              "90"
            ]
          },
          "metadata": {},
          "execution_count": 2
        }
      ]
    },
    {
      "cell_type": "code",
      "source": [
        "30/15"
      ],
      "metadata": {
        "colab": {
          "base_uri": "https://localhost:8080/"
        },
        "id": "C8NvhwZ4humW",
        "outputId": "c7baef9b-3b4c-4647-9774-fa663b1bdfeb"
      },
      "execution_count": 3,
      "outputs": [
        {
          "output_type": "execute_result",
          "data": {
            "text/plain": [
              "2.0"
            ]
          },
          "metadata": {},
          "execution_count": 3
        }
      ]
    },
    {
      "cell_type": "code",
      "source": [
        "30%15"
      ],
      "metadata": {
        "colab": {
          "base_uri": "https://localhost:8080/"
        },
        "id": "8Ceo9G3ahw_n",
        "outputId": "8cdbb096-cb0e-4a16-acb5-1150fb194f04"
      },
      "execution_count": 4,
      "outputs": [
        {
          "output_type": "execute_result",
          "data": {
            "text/plain": [
              "0"
            ]
          },
          "metadata": {},
          "execution_count": 4
        }
      ]
    },
    {
      "cell_type": "code",
      "source": [
        "x=10\n"
      ],
      "metadata": {
        "id": "VSbCdc-Ch2bn"
      },
      "execution_count": 5,
      "outputs": []
    },
    {
      "cell_type": "code",
      "source": [
        "print(x)"
      ],
      "metadata": {
        "colab": {
          "base_uri": "https://localhost:8080/"
        },
        "id": "KGu_u5cTiOIC",
        "outputId": "8f6f37aa-993f-4e8a-9dd0-ffac8b043d5b"
      },
      "execution_count": 6,
      "outputs": [
        {
          "output_type": "stream",
          "name": "stdout",
          "text": [
            "10\n"
          ]
        }
      ]
    },
    {
      "cell_type": "code",
      "source": [
        "x=10\n",
        "y=20\n",
        "print(x,y)"
      ],
      "metadata": {
        "colab": {
          "base_uri": "https://localhost:8080/"
        },
        "id": "99FE5QxwiVzV",
        "outputId": "b7a75930-c43c-4829-d00f-7306e24c17f4"
      },
      "execution_count": 7,
      "outputs": [
        {
          "output_type": "stream",
          "name": "stdout",
          "text": [
            "10 20\n"
          ]
        }
      ]
    },
    {
      "cell_type": "code",
      "source": [
        "x=10\n",
        "y=20\n",
        "print(x+y)"
      ],
      "metadata": {
        "colab": {
          "base_uri": "https://localhost:8080/"
        },
        "id": "I5wESygDizjs",
        "outputId": "03fde710-7478-44b2-c175-de25ae0d9364"
      },
      "execution_count": 8,
      "outputs": [
        {
          "output_type": "stream",
          "name": "stdout",
          "text": [
            "30\n"
          ]
        }
      ]
    },
    {
      "cell_type": "code",
      "source": [
        "x=10\n",
        "y=20\n",
        "print(x*y)"
      ],
      "metadata": {
        "colab": {
          "base_uri": "https://localhost:8080/"
        },
        "id": "qXVaiko3jOZY",
        "outputId": "a3172237-e56b-46a4-bb8e-a2d8a5127d20"
      },
      "execution_count": 9,
      "outputs": [
        {
          "output_type": "stream",
          "name": "stdout",
          "text": [
            "200\n"
          ]
        }
      ]
    },
    {
      "cell_type": "code",
      "source": [
        "x=10\n",
        "y=20\n",
        "print(x/y)"
      ],
      "metadata": {
        "colab": {
          "base_uri": "https://localhost:8080/"
        },
        "id": "Cus3hCsZjSH4",
        "outputId": "d0bd573b-79de-4faa-e8c6-97e3d4269174"
      },
      "execution_count": 10,
      "outputs": [
        {
          "output_type": "stream",
          "name": "stdout",
          "text": [
            "0.5\n"
          ]
        }
      ]
    },
    {
      "cell_type": "code",
      "source": [
        "a=\"nevin saji\"\n",
        "print(a)"
      ],
      "metadata": {
        "colab": {
          "base_uri": "https://localhost:8080/"
        },
        "id": "1Ufx90vVjVDG",
        "outputId": "b42e4995-6311-4546-af62-bbb48ab624c5"
      },
      "execution_count": 11,
      "outputs": [
        {
          "output_type": "stream",
          "name": "stdout",
          "text": [
            "nevin saji\n"
          ]
        }
      ]
    },
    {
      "cell_type": "code",
      "source": [
        "a='nevin saji'\n",
        "print(a)"
      ],
      "metadata": {
        "colab": {
          "base_uri": "https://localhost:8080/"
        },
        "id": "1aMjjY1LkEY3",
        "outputId": "a70d96ed-1dea-4774-fd73-d4895129b931"
      },
      "execution_count": 12,
      "outputs": [
        {
          "output_type": "stream",
          "name": "stdout",
          "text": [
            "nevin saji\n"
          ]
        }
      ]
    },
    {
      "cell_type": "code",
      "source": [
        "print(a[0])"
      ],
      "metadata": {
        "colab": {
          "base_uri": "https://localhost:8080/"
        },
        "id": "qLrt3wYUkWuK",
        "outputId": "72365225-20ca-4cf1-e64a-52de91980827"
      },
      "execution_count": 13,
      "outputs": [
        {
          "output_type": "stream",
          "name": "stdout",
          "text": [
            "n\n"
          ]
        }
      ]
    },
    {
      "cell_type": "code",
      "source": [
        "print(a[9])"
      ],
      "metadata": {
        "colab": {
          "base_uri": "https://localhost:8080/"
        },
        "id": "hAJF7n0-lpJO",
        "outputId": "d45595b1-323b-463e-f624-f889f7e355d7"
      },
      "execution_count": 14,
      "outputs": [
        {
          "output_type": "stream",
          "name": "stdout",
          "text": [
            "i\n"
          ]
        }
      ]
    },
    {
      "cell_type": "code",
      "source": [
        "print(a[-1])"
      ],
      "metadata": {
        "colab": {
          "base_uri": "https://localhost:8080/"
        },
        "id": "4HnnHHCPmFIK",
        "outputId": "e88a0467-299f-4f56-9b9b-aac8e2bbbe52"
      },
      "execution_count": 15,
      "outputs": [
        {
          "output_type": "stream",
          "name": "stdout",
          "text": [
            "i\n"
          ]
        }
      ]
    },
    {
      "cell_type": "code",
      "source": [
        "print(a[-2])"
      ],
      "metadata": {
        "colab": {
          "base_uri": "https://localhost:8080/"
        },
        "id": "OEs-C16KmtPz",
        "outputId": "ada87f14-09c4-4eaa-ea3b-b69cf409f88a"
      },
      "execution_count": 16,
      "outputs": [
        {
          "output_type": "stream",
          "name": "stdout",
          "text": [
            "j\n"
          ]
        }
      ]
    },
    {
      "cell_type": "code",
      "source": [
        "print(a[-10])"
      ],
      "metadata": {
        "colab": {
          "base_uri": "https://localhost:8080/"
        },
        "id": "UtOq_I2Wm169",
        "outputId": "22bc8778-69e6-4708-be04-5c6b55cbc7c0"
      },
      "execution_count": 17,
      "outputs": [
        {
          "output_type": "stream",
          "name": "stdout",
          "text": [
            "n\n"
          ]
        }
      ]
    },
    {
      "cell_type": "code",
      "source": [
        "print(a[0:1])"
      ],
      "metadata": {
        "colab": {
          "base_uri": "https://localhost:8080/"
        },
        "id": "_4Ymkplem9zJ",
        "outputId": "ab57c762-716d-48eb-816f-5f5ffaa9ced8"
      },
      "execution_count": 18,
      "outputs": [
        {
          "output_type": "stream",
          "name": "stdout",
          "text": [
            "n\n"
          ]
        }
      ]
    },
    {
      "cell_type": "code",
      "source": [
        "print(a[0:2])"
      ],
      "metadata": {
        "colab": {
          "base_uri": "https://localhost:8080/"
        },
        "id": "D2YgR980ngMb",
        "outputId": "3ebd68dc-da8d-4356-e0d8-4173daaa73b4"
      },
      "execution_count": 19,
      "outputs": [
        {
          "output_type": "stream",
          "name": "stdout",
          "text": [
            "ne\n"
          ]
        }
      ]
    },
    {
      "cell_type": "code",
      "source": [
        "print(a[0:5])"
      ],
      "metadata": {
        "colab": {
          "base_uri": "https://localhost:8080/"
        },
        "id": "orHUZt9XnjpH",
        "outputId": "e7100f86-261c-4efb-f141-c098ef7fcb0c"
      },
      "execution_count": 20,
      "outputs": [
        {
          "output_type": "stream",
          "name": "stdout",
          "text": [
            "nevin\n"
          ]
        }
      ]
    },
    {
      "cell_type": "code",
      "source": [
        "print(a[6:10])"
      ],
      "metadata": {
        "colab": {
          "base_uri": "https://localhost:8080/"
        },
        "id": "e8VHDjfunv3p",
        "outputId": "67626ddb-f021-43b1-f1f6-e49f7338eeb0"
      },
      "execution_count": 21,
      "outputs": [
        {
          "output_type": "stream",
          "name": "stdout",
          "text": [
            "saji\n"
          ]
        }
      ]
    },
    {
      "cell_type": "code",
      "source": [
        "print(a[-10:-5])"
      ],
      "metadata": {
        "colab": {
          "base_uri": "https://localhost:8080/"
        },
        "id": "hojeXxC9oQIh",
        "outputId": "02b01ca3-ae7d-4889-bce7-f0472685fba2"
      },
      "execution_count": 22,
      "outputs": [
        {
          "output_type": "stream",
          "name": "stdout",
          "text": [
            "nevin\n"
          ]
        }
      ]
    },
    {
      "cell_type": "code",
      "source": [
        "print(a[-4:])"
      ],
      "metadata": {
        "colab": {
          "base_uri": "https://localhost:8080/"
        },
        "id": "IBVCVNcbobpn",
        "outputId": "8322c7b5-213c-487b-8e65-f4957d2ae204"
      },
      "execution_count": 23,
      "outputs": [
        {
          "output_type": "stream",
          "name": "stdout",
          "text": [
            "saji\n"
          ]
        }
      ]
    },
    {
      "cell_type": "code",
      "source": [
        "print(a[0:])"
      ],
      "metadata": {
        "colab": {
          "base_uri": "https://localhost:8080/"
        },
        "id": "bL0ZXcefonmA",
        "outputId": "942ab65f-084e-4a26-b129-3e03fabab6fa"
      },
      "execution_count": 24,
      "outputs": [
        {
          "output_type": "stream",
          "name": "stdout",
          "text": [
            "nevin saji\n"
          ]
        }
      ]
    },
    {
      "cell_type": "code",
      "source": [
        "x=\"nevin\"\n",
        "y=\"saji\"\n",
        "print(x+\" \"+y)"
      ],
      "metadata": {
        "colab": {
          "base_uri": "https://localhost:8080/"
        },
        "id": "KQvAy7SSpjSw",
        "outputId": "29e46ae4-b1e5-433a-db29-ad5b6a13a93a"
      },
      "execution_count": 25,
      "outputs": [
        {
          "output_type": "stream",
          "name": "stdout",
          "text": [
            "nevin saji\n"
          ]
        }
      ]
    },
    {
      "cell_type": "code",
      "source": [
        "x=\"10\"\n",
        "y=\"20\"\n",
        "print(x+y)"
      ],
      "metadata": {
        "colab": {
          "base_uri": "https://localhost:8080/"
        },
        "id": "hcC_VkDStSC6",
        "outputId": "dcd8086b-4084-4f3b-f969-a4bac8bda003"
      },
      "execution_count": 26,
      "outputs": [
        {
          "output_type": "stream",
          "name": "stdout",
          "text": [
            "1020\n"
          ]
        }
      ]
    },
    {
      "cell_type": "code",
      "source": [
        "x=10\n",
        "print(type(x))"
      ],
      "metadata": {
        "colab": {
          "base_uri": "https://localhost:8080/"
        },
        "id": "P-XenURkuFsM",
        "outputId": "42a270c2-3154-4f25-cf4c-8f199652f7ea"
      },
      "execution_count": 27,
      "outputs": [
        {
          "output_type": "stream",
          "name": "stdout",
          "text": [
            "<class 'int'>\n"
          ]
        }
      ]
    },
    {
      "cell_type": "code",
      "source": [
        "x=10.5\n",
        "print(type(x))"
      ],
      "metadata": {
        "colab": {
          "base_uri": "https://localhost:8080/"
        },
        "id": "9ZsM8yPKu7bz",
        "outputId": "58badc80-d970-4760-a9c8-fe1f92abb1e6"
      },
      "execution_count": 28,
      "outputs": [
        {
          "output_type": "stream",
          "name": "stdout",
          "text": [
            "<class 'float'>\n"
          ]
        }
      ]
    },
    {
      "cell_type": "code",
      "source": [
        "x=\"nevin\"\n",
        "print(type(x))"
      ],
      "metadata": {
        "colab": {
          "base_uri": "https://localhost:8080/"
        },
        "id": "DSdbLqibvH-s",
        "outputId": "0b8a5a2f-47a9-4df0-f390-10c8b44478c6"
      },
      "execution_count": 29,
      "outputs": [
        {
          "output_type": "stream",
          "name": "stdout",
          "text": [
            "<class 'str'>\n"
          ]
        }
      ]
    },
    {
      "cell_type": "code",
      "source": [
        "x=input(\"enter your name:\")"
      ],
      "metadata": {
        "colab": {
          "base_uri": "https://localhost:8080/"
        },
        "id": "VeaZoW1vvUwl",
        "outputId": "0a216eb8-ccda-4a3e-c24f-3715da795901"
      },
      "execution_count": 30,
      "outputs": [
        {
          "name": "stdout",
          "output_type": "stream",
          "text": [
            "enter your name:nevin saji\n"
          ]
        }
      ]
    },
    {
      "cell_type": "code",
      "source": [
        "x=int(input(\"enter your marks:\"))"
      ],
      "metadata": {
        "colab": {
          "base_uri": "https://localhost:8080/"
        },
        "id": "7nwsl9AJvmmA",
        "outputId": "f8a727ad-1a65-4f9d-c471-2e742f4c3b26"
      },
      "execution_count": 31,
      "outputs": [
        {
          "name": "stdout",
          "output_type": "stream",
          "text": [
            "enter your marks:20\n"
          ]
        }
      ]
    },
    {
      "cell_type": "code",
      "source": [
        "print(type(x))"
      ],
      "metadata": {
        "colab": {
          "base_uri": "https://localhost:8080/"
        },
        "id": "DR3amc8LwW4L",
        "outputId": "40ed4b11-547b-4629-c0fa-5f6984cf3e5e"
      },
      "execution_count": 32,
      "outputs": [
        {
          "output_type": "stream",
          "name": "stdout",
          "text": [
            "<class 'int'>\n"
          ]
        }
      ]
    },
    {
      "cell_type": "code",
      "source": [
        "x=int(input(\"enter 1st no:\"))\n",
        "y=int(input(\"enter 2nd no:\"))\n",
        "print(x+y)"
      ],
      "metadata": {
        "colab": {
          "base_uri": "https://localhost:8080/"
        },
        "id": "a3rkELIPwcYP",
        "outputId": "a58e1663-7a49-4f76-b62b-768fc5905044"
      },
      "execution_count": 33,
      "outputs": [
        {
          "output_type": "stream",
          "name": "stdout",
          "text": [
            "enter 1st no:20\n",
            "enter 2nd no:10\n",
            "30\n"
          ]
        }
      ]
    },
    {
      "cell_type": "code",
      "source": [
        "x=int(input(\"enter 1st no:\"))\n",
        "y=int(input(\"enter 2nd no:\"))\n",
        "print(x*y)"
      ],
      "metadata": {
        "colab": {
          "base_uri": "https://localhost:8080/"
        },
        "id": "3Z2A0KYfxYVN",
        "outputId": "9d4fe44c-f8ec-41dc-ad43-8e60d830979a"
      },
      "execution_count": 34,
      "outputs": [
        {
          "output_type": "stream",
          "name": "stdout",
          "text": [
            "enter 1st no:10\n",
            "enter 2nd no:2\n",
            "20\n"
          ]
        }
      ]
    },
    {
      "cell_type": "code",
      "source": [
        "x=int(input(\"enter 1st no:\"))\n",
        "y=int(input(\"enter 2nd no:\"))\n",
        "print(x/y)"
      ],
      "metadata": {
        "colab": {
          "base_uri": "https://localhost:8080/"
        },
        "id": "jn7Xqw4Sxdhd",
        "outputId": "760d4931-e173-48f5-c882-b53df155bab4"
      },
      "execution_count": 35,
      "outputs": [
        {
          "output_type": "stream",
          "name": "stdout",
          "text": [
            "enter 1st no:20\n",
            "enter 2nd no:2\n",
            "10.0\n"
          ]
        }
      ]
    },
    {
      "cell_type": "code",
      "source": [
        "print(x-y)"
      ],
      "metadata": {
        "colab": {
          "base_uri": "https://localhost:8080/"
        },
        "id": "kYsXcuUzxicA",
        "outputId": "2cf38d22-ee2f-460e-ca64-24f755d6a862"
      },
      "execution_count": 36,
      "outputs": [
        {
          "output_type": "stream",
          "name": "stdout",
          "text": [
            "18\n"
          ]
        }
      ]
    },
    {
      "cell_type": "code",
      "source": [
        "print(x%y)"
      ],
      "metadata": {
        "colab": {
          "base_uri": "https://localhost:8080/"
        },
        "id": "WD3yHr_rxrYU",
        "outputId": "5fd0667f-e309-489c-d8da-a545ecb921b0"
      },
      "execution_count": 37,
      "outputs": [
        {
          "output_type": "stream",
          "name": "stdout",
          "text": [
            "0\n"
          ]
        }
      ]
    },
    {
      "cell_type": "code",
      "source": [
        "i=int(input(\"enter current:\"))\n",
        "r=int(input(\"enter resistance:\"))\n",
        "print(\"voltage=\",i*r)"
      ],
      "metadata": {
        "colab": {
          "base_uri": "https://localhost:8080/"
        },
        "id": "oMhTViJZxwSN",
        "outputId": "4cd29070-aa79-47e9-df99-e7ad5cca0e8d"
      },
      "execution_count": 38,
      "outputs": [
        {
          "output_type": "stream",
          "name": "stdout",
          "text": [
            "enter current:20\n",
            "enter resistance:5\n",
            "voltage= 100\n"
          ]
        }
      ]
    },
    {
      "cell_type": "code",
      "source": [
        "x=int(input(\"enter your marks:\"))\n",
        "if x>=50:\n",
        "  if x>50:\n",
        "    print(\"pass\")\n",
        "  else:\n",
        "    print(\"just pass\")    \n",
        "else:\n",
        "  print(\"fail\")"
      ],
      "metadata": {
        "colab": {
          "base_uri": "https://localhost:8080/"
        },
        "id": "D_4tWQUOyKoZ",
        "outputId": "dbe03047-24f8-404f-8d43-b65a01e6d7bf"
      },
      "execution_count": 39,
      "outputs": [
        {
          "output_type": "stream",
          "name": "stdout",
          "text": [
            "enter your marks:80\n",
            "pass\n"
          ]
        }
      ]
    },
    {
      "cell_type": "code",
      "source": [
        "x=int(input(\"enter your marks:\"))\n",
        "if x>0 and x<=49:\n",
        "  print(\"failed\")\n",
        "if x>=50 and x<=60:\n",
        "  print(\"second class\")\n",
        "if x>61 and x<80:\n",
        "  print(\"second class\")\n",
        "if x>=80:\n",
        "  y=int(input(\"no of supply:\"))\n",
        "  if y>0:\n",
        "    print(\"no  destinction\")\n",
        "  if y==0:\n",
        "    print(\"destinction\")\n",
        "\n",
        "  \n"
      ],
      "metadata": {
        "colab": {
          "base_uri": "https://localhost:8080/"
        },
        "id": "FOfJvoqd0VZr",
        "outputId": "82f70e3c-0411-4998-bfe8-50ba995ea96d"
      },
      "execution_count": 40,
      "outputs": [
        {
          "output_type": "stream",
          "name": "stdout",
          "text": [
            "enter your marks:88\n",
            "no of supply:0\n",
            "destinction\n"
          ]
        }
      ]
    },
    {
      "cell_type": "code",
      "source": [
        "11%2\n"
      ],
      "metadata": {
        "colab": {
          "base_uri": "https://localhost:8080/"
        },
        "id": "5ewFWiCQ28xj",
        "outputId": "d9b2f27c-aac7-4b04-dab0-0754443f962b"
      },
      "execution_count": 41,
      "outputs": [
        {
          "output_type": "execute_result",
          "data": {
            "text/plain": [
              "1"
            ]
          },
          "metadata": {},
          "execution_count": 41
        }
      ]
    },
    {
      "cell_type": "code",
      "source": [
        "x=int(input(\"enter no:\"))\n",
        "if x%2==0:\n",
        "  print(x,\"is an even number\")\n",
        "else:\n",
        "  print(x,\"is an odd number\")\n",
        "\n"
      ],
      "metadata": {
        "colab": {
          "base_uri": "https://localhost:8080/"
        },
        "id": "eJqw2_xGG-ay",
        "outputId": "b3c929ba-fb84-4b44-e255-a754b4af04fe"
      },
      "execution_count": 42,
      "outputs": [
        {
          "output_type": "stream",
          "name": "stdout",
          "text": [
            "enter no:22\n",
            "22 is an even number\n"
          ]
        }
      ]
    },
    {
      "cell_type": "code",
      "source": [
        "for k in range(0,10,2):\n",
        "  print(k)"
      ],
      "metadata": {
        "colab": {
          "base_uri": "https://localhost:8080/"
        },
        "id": "3o5ZL5mtIwe_",
        "outputId": "afca69a4-4662-4a96-d6a2-927e31627fee"
      },
      "execution_count": 43,
      "outputs": [
        {
          "output_type": "stream",
          "name": "stdout",
          "text": [
            "0\n",
            "2\n",
            "4\n",
            "6\n",
            "8\n"
          ]
        }
      ]
    },
    {
      "cell_type": "code",
      "source": [
        "sum=0\n",
        "for k in range(0,11):\n",
        "  sum=sum+k\n",
        "print(\"sum =\",sum)"
      ],
      "metadata": {
        "colab": {
          "base_uri": "https://localhost:8080/"
        },
        "id": "vUb4PAuMJGVS",
        "outputId": "4b6c1fa5-ba9b-4d43-8a83-a5112812d06e"
      },
      "execution_count": 44,
      "outputs": [
        {
          "output_type": "stream",
          "name": "stdout",
          "text": [
            "sum = 55\n"
          ]
        }
      ]
    },
    {
      "cell_type": "code",
      "source": [
        "sum=1\n",
        "for k in range(1,101):\n",
        "    sum=sum*k\n",
        "print(\"product  =\",sum)"
      ],
      "metadata": {
        "id": "Erv1PJq2La42",
        "outputId": "205ae4ef-a4d7-4c90-c549-0930ad7dc89b",
        "colab": {
          "base_uri": "https://localhost:8080/"
        }
      },
      "execution_count": 45,
      "outputs": [
        {
          "output_type": "stream",
          "name": "stdout",
          "text": [
            "product  = 93326215443944152681699238856266700490715968264381621468592963895217599993229915608941463976156518286253697920827223758251185210916864000000000000000000000000\n"
          ]
        }
      ]
    },
    {
      "cell_type": "code",
      "source": [
        "for k in range(100):\n",
        "  if k==5:\n",
        "    break;\n",
        "  print(k)"
      ],
      "metadata": {
        "id": "9WP-oYzKOzie",
        "outputId": "a2bc5e0d-ea02-45f4-e662-2ed7d6a2eb02",
        "colab": {
          "base_uri": "https://localhost:8080/"
        }
      },
      "execution_count": 46,
      "outputs": [
        {
          "output_type": "stream",
          "name": "stdout",
          "text": [
            "0\n",
            "1\n",
            "2\n",
            "3\n",
            "4\n"
          ]
        }
      ]
    },
    {
      "cell_type": "code",
      "source": [
        "s=0\n",
        "n=1\n",
        "while n==1:\n",
        "  x=int(input(\"enter no:\"))\n",
        "  s=s+x\n",
        "  n=int(input(\"enter 0 to stop and 1 to continue:\"))\n",
        "  if n==0:\n",
        "    break;\n",
        "print(s)\n",
        "\n",
        "\n"
      ],
      "metadata": {
        "id": "xRJoYVJsSt_G",
        "outputId": "16f1b7a4-3e3c-49b5-d2e9-1d3118211453",
        "colab": {
          "base_uri": "https://localhost:8080/"
        }
      },
      "execution_count": 47,
      "outputs": [
        {
          "output_type": "stream",
          "name": "stdout",
          "text": [
            "enter no:1\n",
            "enter 0 to stop and 1 to continue:1\n",
            "enter no:4\n",
            "enter 0 to stop and 1 to continue:1\n",
            "enter no:5\n",
            "enter 0 to stop and 1 to continue:0\n",
            "10\n"
          ]
        }
      ]
    },
    {
      "cell_type": "code",
      "source": [
        "k=0\n",
        "while(k<10):\n",
        "  print(k)\n",
        "  k=k+1"
      ],
      "metadata": {
        "id": "ZJY4HH2WUvFr",
        "outputId": "170c3a47-dc1a-4c2b-bf01-c97ddcfcdefc",
        "colab": {
          "base_uri": "https://localhost:8080/"
        }
      },
      "execution_count": 48,
      "outputs": [
        {
          "output_type": "stream",
          "name": "stdout",
          "text": [
            "0\n",
            "1\n",
            "2\n",
            "3\n",
            "4\n",
            "5\n",
            "6\n",
            "7\n",
            "8\n",
            "9\n"
          ]
        }
      ]
    },
    {
      "cell_type": "code",
      "source": [
        "k=0\n",
        "s=0\n",
        "while(k<=100):\n",
        "  s=s+k\n",
        "  k=k+1\n",
        "print(s)"
      ],
      "metadata": {
        "id": "mhXGVIETZ3FQ",
        "outputId": "c78947ae-5975-4ec7-eba8-b61e701456a6",
        "colab": {
          "base_uri": "https://localhost:8080/"
        }
      },
      "execution_count": 49,
      "outputs": [
        {
          "output_type": "stream",
          "name": "stdout",
          "text": [
            "5050\n"
          ]
        }
      ]
    },
    {
      "cell_type": "code",
      "source": [
        "k=1\n",
        "s=0\n",
        "while(k<=100):\n",
        "  s=s+k\n",
        "  k=k+2\n",
        "print(s)"
      ],
      "metadata": {
        "id": "fGLRjTOwanj9",
        "outputId": "c41837d0-e2be-4926-e3b7-b27a326ef833",
        "colab": {
          "base_uri": "https://localhost:8080/"
        }
      },
      "execution_count": 50,
      "outputs": [
        {
          "output_type": "stream",
          "name": "stdout",
          "text": [
            "2500\n"
          ]
        }
      ]
    },
    {
      "cell_type": "code",
      "source": [
        "k=1\n",
        "s=0\n",
        "while(k<=100):\n",
        "  if k%2!=0:\n",
        "    s=s+k\n",
        "  k=k+1\n",
        "print(s)"
      ],
      "metadata": {
        "id": "1Fj7Y8J4dVVf",
        "outputId": "53eef90b-63a3-4b89-be8b-65b902bac544",
        "colab": {
          "base_uri": "https://localhost:8080/"
        }
      },
      "execution_count": 51,
      "outputs": [
        {
          "output_type": "stream",
          "name": "stdout",
          "text": [
            "2500\n"
          ]
        }
      ]
    },
    {
      "cell_type": "code",
      "source": [
        "for x in range(10):\n",
        "  if x==5:\n",
        "    continue;\n",
        "  print(x)"
      ],
      "metadata": {
        "id": "FW5BeZb8eCUX",
        "outputId": "c7634db6-124d-402e-fbe3-de515f97f6a2",
        "colab": {
          "base_uri": "https://localhost:8080/"
        }
      },
      "execution_count": 52,
      "outputs": [
        {
          "output_type": "stream",
          "name": "stdout",
          "text": [
            "0\n",
            "1\n",
            "2\n",
            "3\n",
            "4\n",
            "6\n",
            "7\n",
            "8\n",
            "9\n"
          ]
        }
      ]
    },
    {
      "cell_type": "code",
      "source": [
        "for x in range(100):\n",
        "  if x%2==1:\n",
        "    continue;\n",
        "  print(x)"
      ],
      "metadata": {
        "id": "IOzTnfZlfmMP",
        "outputId": "7073d23a-c2eb-489f-af6f-d8b33bebb4c5",
        "colab": {
          "base_uri": "https://localhost:8080/"
        }
      },
      "execution_count": 53,
      "outputs": [
        {
          "output_type": "stream",
          "name": "stdout",
          "text": [
            "0\n",
            "2\n",
            "4\n",
            "6\n",
            "8\n",
            "10\n",
            "12\n",
            "14\n",
            "16\n",
            "18\n",
            "20\n",
            "22\n",
            "24\n",
            "26\n",
            "28\n",
            "30\n",
            "32\n",
            "34\n",
            "36\n",
            "38\n",
            "40\n",
            "42\n",
            "44\n",
            "46\n",
            "48\n",
            "50\n",
            "52\n",
            "54\n",
            "56\n",
            "58\n",
            "60\n",
            "62\n",
            "64\n",
            "66\n",
            "68\n",
            "70\n",
            "72\n",
            "74\n",
            "76\n",
            "78\n",
            "80\n",
            "82\n",
            "84\n",
            "86\n",
            "88\n",
            "90\n",
            "92\n",
            "94\n",
            "96\n",
            "98\n"
          ]
        }
      ]
    },
    {
      "cell_type": "code",
      "source": [
        "x=[1,2,3,'india',42,14]\n",
        "print(x)"
      ],
      "metadata": {
        "id": "oLC0Q6IZgbE-",
        "outputId": "42109a8e-2d8d-4ae9-aa79-366850e8b59a",
        "colab": {
          "base_uri": "https://localhost:8080/"
        }
      },
      "execution_count": 54,
      "outputs": [
        {
          "output_type": "stream",
          "name": "stdout",
          "text": [
            "[1, 2, 3, 'india', 42, 14]\n"
          ]
        }
      ]
    },
    {
      "cell_type": "code",
      "source": [
        "print(x[-1])"
      ],
      "metadata": {
        "id": "O7MviMrAlJLP",
        "outputId": "595b3343-abe1-4753-a22e-6894be6b120e",
        "colab": {
          "base_uri": "https://localhost:8080/"
        }
      },
      "execution_count": 55,
      "outputs": [
        {
          "output_type": "stream",
          "name": "stdout",
          "text": [
            "14\n"
          ]
        }
      ]
    },
    {
      "cell_type": "code",
      "source": [
        "print(x[0:3])"
      ],
      "metadata": {
        "id": "fgtCseSZlemS",
        "outputId": "1cf5a22f-49b5-4688-f7d1-eb78556259a2",
        "colab": {
          "base_uri": "https://localhost:8080/"
        }
      },
      "execution_count": 56,
      "outputs": [
        {
          "output_type": "stream",
          "name": "stdout",
          "text": [
            "[1, 2, 3]\n"
          ]
        }
      ]
    },
    {
      "cell_type": "code",
      "source": [
        "print(x[-2:])"
      ],
      "metadata": {
        "id": "f5ifzAocmjKN",
        "outputId": "cfe2b726-3e9d-484a-f0bc-b59500806d81",
        "colab": {
          "base_uri": "https://localhost:8080/"
        }
      },
      "execution_count": 57,
      "outputs": [
        {
          "output_type": "stream",
          "name": "stdout",
          "text": [
            "[42, 14]\n"
          ]
        }
      ]
    },
    {
      "cell_type": "code",
      "source": [
        "x.append(\"sarang\")\n",
        "x"
      ],
      "metadata": {
        "id": "FiVdD7U2m0xC",
        "outputId": "652a6866-90e3-48e8-cba7-49bc68b1d6d2",
        "colab": {
          "base_uri": "https://localhost:8080/"
        }
      },
      "execution_count": 58,
      "outputs": [
        {
          "output_type": "execute_result",
          "data": {
            "text/plain": [
              "[1, 2, 3, 'india', 42, 14, 'sarang']"
            ]
          },
          "metadata": {},
          "execution_count": 58
        }
      ]
    },
    {
      "cell_type": "code",
      "source": [
        "x.insert(1,\"saishna\")\n",
        "x"
      ],
      "metadata": {
        "id": "wAJiXYIboUB0",
        "outputId": "da420f3e-9014-480e-c55c-6c986339de58",
        "colab": {
          "base_uri": "https://localhost:8080/"
        }
      },
      "execution_count": 59,
      "outputs": [
        {
          "output_type": "execute_result",
          "data": {
            "text/plain": [
              "[1, 'saishna', 2, 3, 'india', 42, 14, 'sarang']"
            ]
          },
          "metadata": {},
          "execution_count": 59
        }
      ]
    },
    {
      "cell_type": "code",
      "source": [
        "x[2]=\"sanath k\"\n",
        "x"
      ],
      "metadata": {
        "id": "bC0KyertpZiC",
        "outputId": "b090eccb-e9b3-4fc1-cb9b-63561296614e",
        "colab": {
          "base_uri": "https://localhost:8080/"
        }
      },
      "execution_count": 60,
      "outputs": [
        {
          "output_type": "execute_result",
          "data": {
            "text/plain": [
              "[1, 'saishna', 'sanath k', 3, 'india', 42, 14, 'sarang']"
            ]
          },
          "metadata": {},
          "execution_count": 60
        }
      ]
    },
    {
      "cell_type": "code",
      "source": [
        "a=x[0]\n",
        "x[0]=x[-1]\n",
        "x[-1]=a\n",
        "print(x)"
      ],
      "metadata": {
        "id": "e6Wg8yh3qElu",
        "outputId": "12190749-be28-4d48-a9a2-5b21119d34fa",
        "colab": {
          "base_uri": "https://localhost:8080/"
        }
      },
      "execution_count": 61,
      "outputs": [
        {
          "output_type": "stream",
          "name": "stdout",
          "text": [
            "['sarang', 'saishna', 'sanath k', 3, 'india', 42, 14, 1]\n"
          ]
        }
      ]
    },
    {
      "cell_type": "code",
      "source": [],
      "metadata": {
        "id": "dR1BvzP_q45z"
      },
      "execution_count": 61,
      "outputs": []
    }
  ]
}